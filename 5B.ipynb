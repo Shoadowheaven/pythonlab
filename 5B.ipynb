{
 "cells": [
  {
   "cell_type": "code",
   "execution_count": null,
   "id": "55643228",
   "metadata": {},
   "outputs": [],
   "source": [
    "import re\n",
    "# Define the regular expression for phone numbers\n",
    "phone_regex = re.compile(r'\\+\\d{12}')\n",
    "email_regex = re.compile(r'[A-Za-z0-9._]+@[A-Za-z0-9]+\\.[A-Z|a-z]{2,}')\n",
    "# Open the file for reading\n",
    "with open('example.txt', 'r') as f:\n",
    " # Loop through each line in the file\n",
    " for line in f:\n",
    " # Search for phone numbers in the line\n",
    " matches = phone_regex.findall(line)\n",
    " # Print any matches found\n",
    " for match in matches:\n",
    " print(match)\n",
    " matches = email_regex.findall(line)\n",
    " # Print any matches found\n",
    " for match in matches:\n",
    " print(match)"
   ]
  }
 ],
 "metadata": {
  "kernelspec": {
   "display_name": "Python 3 (ipykernel)",
   "language": "python",
   "name": "python3"
  },
  "language_info": {
   "codemirror_mode": {
    "name": "ipython",
    "version": 3
   },
   "file_extension": ".py",
   "mimetype": "text/x-python",
   "name": "python",
   "nbconvert_exporter": "python",
   "pygments_lexer": "ipython3",
   "version": "3.10.9"
  }
 },
 "nbformat": 4,
 "nbformat_minor": 5
}
