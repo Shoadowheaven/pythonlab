{
 "cells": [
  {
   "cell_type": "code",
   "execution_count": null,
   "id": "092cd19d",
   "metadata": {},
   "outputs": [],
   "source": [
    "str1 = input(\"Enter String 1 \\n\")\n",
    "str2 = input(\"Enter String 2 \\n\")\n",
    "if len(str2) < len(str1):\n",
    " short = len(str2)\n",
    " long = len(str1)\n",
    "else:\n",
    " short = len(str1)\n",
    " long = len(str2)\n",
    " \n",
    "matchCnt = 0\n",
    "for i in range(short):\n",
    " if str1[i] == str2[i]:\n",
    " matchCnt += 1\n",
    "print(\"Similarity between two said strings:\")\n",
    "print(matchCnt/long)\n"
   ]
  }
 ],
 "metadata": {
  "kernelspec": {
   "display_name": "Python 3 (ipykernel)",
   "language": "python",
   "name": "python3"
  },
  "language_info": {
   "codemirror_mode": {
    "name": "ipython",
    "version": 3
   },
   "file_extension": ".py",
   "mimetype": "text/x-python",
   "name": "python",
   "nbconvert_exporter": "python",
   "pygments_lexer": "ipython3",
   "version": "3.10.9"
  }
 },
 "nbformat": 4,
 "nbformat_minor": 5
}
